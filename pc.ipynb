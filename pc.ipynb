{
  "cells": [
    {
      "cell_type": "markdown",
      "metadata": {
        "id": "view-in-github",
        "colab_type": "text"
      },
      "source": [
        "<a href=\"https://colab.research.google.com/github/nayan130/Nayans-Project/blob/master/pc.ipynb\" target=\"_parent\"><img src=\"https://colab.research.google.com/assets/colab-badge.svg\" alt=\"Open In Colab\"/></a>"
      ]
    },
    {
      "cell_type": "markdown",
      "metadata": {
        "id": "mHbs8jGi-5oA"
      },
      "source": [
        "### **Setup**"
      ]
    },
    {
      "cell_type": "markdown",
      "metadata": {
        "id": "DCYDatBP_CWb"
      },
      "source": [
        "Preliminary steps to compile and install the application:"
      ]
    },
    {
      "cell_type": "code",
      "execution_count": 1,
      "metadata": {
        "id": "BSPOT--4-kSH",
        "colab": {
          "base_uri": "https://localhost:8080/"
        },
        "outputId": "ed6399b1-577b-49d4-f1c3-2bf9bb81ef4c"
      },
      "outputs": [
        {
          "output_type": "stream",
          "name": "stdout",
          "text": [
            "Collecting netCDF4\n",
            "  Downloading netCDF4-1.6.5-cp310-cp310-manylinux_2_17_x86_64.manylinux2014_x86_64.whl (5.5 MB)\n",
            "\u001b[2K     \u001b[90m━━━━━━━━━━━━━━━━━━━━━━━━━━━━━━━━━━━━━━━━\u001b[0m \u001b[32m5.5/5.5 MB\u001b[0m \u001b[31m22.1 MB/s\u001b[0m eta \u001b[36m0:00:00\u001b[0m\n",
            "\u001b[?25hCollecting cftime (from netCDF4)\n",
            "  Downloading cftime-1.6.3-cp310-cp310-manylinux_2_17_x86_64.manylinux2014_x86_64.whl (1.3 MB)\n",
            "\u001b[2K     \u001b[90m━━━━━━━━━━━━━━━━━━━━━━━━━━━━━━━━━━━━━━━━\u001b[0m \u001b[32m1.3/1.3 MB\u001b[0m \u001b[31m47.9 MB/s\u001b[0m eta \u001b[36m0:00:00\u001b[0m\n",
            "\u001b[?25hRequirement already satisfied: certifi in /usr/local/lib/python3.10/dist-packages (from netCDF4) (2023.11.17)\n",
            "Requirement already satisfied: numpy in /usr/local/lib/python3.10/dist-packages (from netCDF4) (1.23.5)\n",
            "Installing collected packages: cftime, netCDF4\n",
            "Successfully installed cftime-1.6.3 netCDF4-1.6.5\n"
          ]
        }
      ],
      "source": [
        "!pip install netCDF4"
      ]
    },
    {
      "cell_type": "code",
      "execution_count": 2,
      "metadata": {
        "id": "CfB-RJhrwkCI",
        "colab": {
          "base_uri": "https://localhost:8080/"
        },
        "outputId": "a237ce44-58c9-46b4-9b59-520eb05d5d0e"
      },
      "outputs": [
        {
          "output_type": "stream",
          "name": "stdout",
          "text": [
            "Cloning into 'rte-rrtmgp-cpp'...\n",
            "remote: Enumerating objects: 7394, done.\u001b[K\n",
            "remote: Counting objects: 100% (2147/2147), done.\u001b[K\n",
            "remote: Compressing objects: 100% (390/390), done.\u001b[K\n",
            "remote: Total 7394 (delta 1825), reused 2031 (delta 1755), pack-reused 5247\u001b[K\n",
            "Receiving objects: 100% (7394/7394), 6.65 MiB | 13.81 MiB/s, done.\n",
            "Resolving deltas: 100% (5660/5660), done.\n"
          ]
        }
      ],
      "source": [
        "!git clone https://github.com/SerenaC94/rte-rrtmgp-cpp.git"
      ]
    },
    {
      "cell_type": "code",
      "execution_count": 3,
      "metadata": {
        "id": "-Z9fSUWSwqhZ",
        "colab": {
          "base_uri": "https://localhost:8080/"
        },
        "outputId": "2cbd9e77-1205-4d91-b244-df9dafefc409"
      },
      "outputs": [
        {
          "output_type": "stream",
          "name": "stdout",
          "text": [
            "/content/rte-rrtmgp-cpp\n"
          ]
        }
      ],
      "source": [
        "%cd rte-rrtmgp-cpp/"
      ]
    },
    {
      "cell_type": "code",
      "execution_count": 4,
      "metadata": {
        "id": "FKOQTF_jxNm7",
        "colab": {
          "base_uri": "https://localhost:8080/"
        },
        "outputId": "c748e0ec-fb89-43a0-f879-09d603355e18"
      },
      "outputs": [
        {
          "output_type": "stream",
          "name": "stdout",
          "text": [
            "Branch 'cuda' set up to track remote branch 'cuda' from 'origin'.\n",
            "Switched to a new branch 'cuda'\n"
          ]
        }
      ],
      "source": [
        "!git checkout cuda"
      ]
    },
    {
      "cell_type": "code",
      "execution_count": 5,
      "metadata": {
        "id": "E3gKRQJX9Ot4",
        "colab": {
          "base_uri": "https://localhost:8080/"
        },
        "outputId": "d54cdfc2-2d3c-41f8-d611-066b74a7547f"
      },
      "outputs": [
        {
          "output_type": "stream",
          "name": "stdout",
          "text": [
            "Submodule 'rte-rrtmgp' (https://github.com/earth-system-radiation/rte-rrtmgp) registered for path 'rte-rrtmgp'\n",
            "Cloning into '/content/rte-rrtmgp-cpp/rte-rrtmgp'...\n",
            "Submodule path 'rte-rrtmgp': checked out 'e9b7cbd70f286e6152e69f52c1a80018a13913b8'\n"
          ]
        }
      ],
      "source": [
        "!git submodule update --init"
      ]
    },
    {
      "cell_type": "code",
      "execution_count": 6,
      "metadata": {
        "id": "v29bdKByzV_e"
      },
      "outputs": [],
      "source": [
        "!mkdir build"
      ]
    },
    {
      "cell_type": "code",
      "execution_count": 7,
      "metadata": {
        "id": "TGPp40cVzXSe",
        "colab": {
          "base_uri": "https://localhost:8080/"
        },
        "outputId": "caf1b7b3-aca6-48e2-cb87-926718ec69ec"
      },
      "outputs": [
        {
          "output_type": "stream",
          "name": "stdout",
          "text": [
            "/content/rte-rrtmgp-cpp/build\n"
          ]
        }
      ],
      "source": [
        "%cd build"
      ]
    },
    {
      "cell_type": "code",
      "execution_count": 8,
      "metadata": {
        "id": "lxONPUijzYnA",
        "colab": {
          "base_uri": "https://localhost:8080/"
        },
        "outputId": "b3ac84d5-8914-41a6-8979-ee23d5abd3d0"
      },
      "outputs": [
        {
          "output_type": "stream",
          "name": "stdout",
          "text": [
            "-- Precision: Double (64-bits floats)\n",
            "-- The C compiler identification is GNU 11.4.0\n",
            "-- The CXX compiler identification is GNU 11.4.0\n",
            "-- The Fortran compiler identification is GNU 11.4.0\n",
            "-- The CUDA compiler identification is NVIDIA 11.8.89\n",
            "-- Detecting C compiler ABI info\n",
            "-- Detecting C compiler ABI info - done\n",
            "-- Check for working C compiler: /usr/bin/gcc - skipped\n",
            "-- Detecting C compile features\n",
            "-- Detecting C compile features - done\n",
            "-- Detecting CXX compiler ABI info\n",
            "-- Detecting CXX compiler ABI info - done\n",
            "-- Check for working CXX compiler: /usr/bin/g++ - skipped\n",
            "-- Detecting CXX compile features\n",
            "-- Detecting CXX compile features - done\n",
            "-- Detecting Fortran compiler ABI info\n",
            "-- Detecting Fortran compiler ABI info - done\n",
            "-- Check for working Fortran compiler: /usr/bin/gfortran - skipped\n",
            "-- Detecting CUDA compiler ABI info\n",
            "-- Detecting CUDA compiler ABI info - done\n",
            "-- Check for working CUDA compiler: /usr/local/cuda/bin/nvcc - skipped\n",
            "-- Detecting CUDA compile features\n",
            "-- Detecting CUDA compile features - done\n",
            "-- CUDA: Enabled.\n",
            "-- Build Type: RELEASE\n",
            "-- CXX-compiler flags: -std=c++14 -DBOOL_TYPE=\"signed char\" -O3 -DNDEBUG -march=native\n",
            "-- Fortran-compiler flags: -std=c++14 -DBOOL_TYPE=\"signed char\" -O3 -DNDEBUG -march=native\n",
            "-- NVCC-compiler flags:  \n",
            "-- Found Git: /usr/bin/git (found version \"2.34.1\") \n",
            "-- Git hash v0.2.1-635-g6bc10e9\n",
            "-- Configuring done (4.9s)\n",
            "\u001b[33mCMake Warning (dev) in src_kernels_cuda/CMakeLists.txt:\n",
            "  Policy CMP0104 is not set: CMAKE_CUDA_ARCHITECTURES now detected for NVCC,\n",
            "  empty CUDA_ARCHITECTURES not allowed.  Run \"cmake --help-policy CMP0104\"\n",
            "  for policy details.  Use the cmake_policy command to set the policy and\n",
            "  suppress this warning.\n",
            "\n",
            "  CUDA_ARCHITECTURES is empty for target \"rte_rrtmgp_kernels_cuda\".\n",
            "This warning is for project developers.  Use -Wno-dev to suppress it.\n",
            "\u001b[0m\n",
            "\u001b[33mCMake Warning (dev) in src_kernels_cuda/CMakeLists.txt:\n",
            "  Policy CMP0104 is not set: CMAKE_CUDA_ARCHITECTURES now detected for NVCC,\n",
            "  empty CUDA_ARCHITECTURES not allowed.  Run \"cmake --help-policy CMP0104\"\n",
            "  for policy details.  Use the cmake_policy command to set the policy and\n",
            "  suppress this warning.\n",
            "\n",
            "  CUDA_ARCHITECTURES is empty for target \"rte_rrtmgp_kernels_cuda\".\n",
            "This warning is for project developers.  Use -Wno-dev to suppress it.\n",
            "\u001b[0m\n",
            "\u001b[33mCMake Warning (dev) in src_cuda/CMakeLists.txt:\n",
            "  Policy CMP0104 is not set: CMAKE_CUDA_ARCHITECTURES now detected for NVCC,\n",
            "  empty CUDA_ARCHITECTURES not allowed.  Run \"cmake --help-policy CMP0104\"\n",
            "  for policy details.  Use the cmake_policy command to set the policy and\n",
            "  suppress this warning.\n",
            "\n",
            "  CUDA_ARCHITECTURES is empty for target \"rte_rrtmgp_cuda\".\n",
            "This warning is for project developers.  Use -Wno-dev to suppress it.\n",
            "\u001b[0m\n",
            "\u001b[33mCMake Warning (dev) in src_cuda/CMakeLists.txt:\n",
            "  Policy CMP0104 is not set: CMAKE_CUDA_ARCHITECTURES now detected for NVCC,\n",
            "  empty CUDA_ARCHITECTURES not allowed.  Run \"cmake --help-policy CMP0104\"\n",
            "  for policy details.  Use the cmake_policy command to set the policy and\n",
            "  suppress this warning.\n",
            "\n",
            "  CUDA_ARCHITECTURES is empty for target \"rte_rrtmgp_cuda\".\n",
            "This warning is for project developers.  Use -Wno-dev to suppress it.\n",
            "\u001b[0m\n",
            "\u001b[33mCMake Warning (dev) in src_test/CMakeLists.txt:\n",
            "  Policy CMP0104 is not set: CMAKE_CUDA_ARCHITECTURES now detected for NVCC,\n",
            "  empty CUDA_ARCHITECTURES not allowed.  Run \"cmake --help-policy CMP0104\"\n",
            "  for policy details.  Use the cmake_policy command to set the policy and\n",
            "  suppress this warning.\n",
            "\n",
            "  CUDA_ARCHITECTURES is empty for target \"test_rte_rrtmgp_gpu\".\n",
            "This warning is for project developers.  Use -Wno-dev to suppress it.\n",
            "\u001b[0m\n",
            "-- Generating done (0.0s)\n",
            "-- Build files have been written to: /content/rte-rrtmgp-cpp/build\n"
          ]
        }
      ],
      "source": [
        "!cmake .. -DSYST=ubuntu -DUSECUDA=on"
      ]
    },
    {
      "cell_type": "code",
      "execution_count": 9,
      "metadata": {
        "id": "vHDMVu-J2gS4",
        "colab": {
          "base_uri": "https://localhost:8080/"
        },
        "outputId": "962b0ab6-75fc-423b-9656-e2335f2e69e0"
      },
      "outputs": [
        {
          "output_type": "stream",
          "name": "stdout",
          "text": [
            "[  2%] \u001b[32mBuilding Fortran object src_kernels/CMakeFiles/rte_rrtmgp_kernels.dir/mo_rte_kind.F90.o\u001b[0m\n",
            "[  5%] \u001b[32mBuilding Fortran object src_kernels/CMakeFiles/rte_rrtmgp_kernels.dir/__/rte-rrtmgp/rte/mo_rte_util_array.F90.o\u001b[0m\n",
            "[  7%] \u001b[32mBuilding Fortran object src_kernels/CMakeFiles/rte_rrtmgp_kernels.dir/__/rte-rrtmgp/rrtmgp/kernels/mo_gas_optics_kernels.F90.o\u001b[0m\n",
            "[ 10%] \u001b[32mBuilding Fortran object src_kernels/CMakeFiles/rte_rrtmgp_kernels.dir/__/rte-rrtmgp/rrtmgp/kernels/mo_rrtmgp_util_reorder_kernels.F90.o\u001b[0m\n",
            "[ 12%] \u001b[32mBuilding Fortran object src_kernels/CMakeFiles/rte_rrtmgp_kernels.dir/__/rte-rrtmgp/rte/kernels/mo_fluxes_broadband_kernels.F90.o\u001b[0m\n",
            "[ 15%] \u001b[32mBuilding Fortran object src_kernels/CMakeFiles/rte_rrtmgp_kernels.dir/__/rte-rrtmgp/rte/kernels/mo_optical_props_kernels.F90.o\u001b[0m\n",
            "[ 17%] \u001b[32mBuilding Fortran object src_kernels/CMakeFiles/rte_rrtmgp_kernels.dir/mo_fluxes_byband_kernels.F90.o\u001b[0m\n",
            "[ 20%] \u001b[32mBuilding Fortran object src_kernels/CMakeFiles/rte_rrtmgp_kernels.dir/mo_rte_solver_kernels.F90.o\u001b[0m\n",
            "[ 22%] \u001b[32m\u001b[1mLinking Fortran static library librte_rrtmgp_kernels.a\u001b[0m\n",
            "[ 22%] Built target rte_rrtmgp_kernels\n",
            "[ 25%] \u001b[32mBuilding CXX object src/CMakeFiles/rte_rrtmgp.dir/Aerosol_optics.cpp.o\u001b[0m\n",
            "[ 27%] \u001b[32mBuilding CXX object src/CMakeFiles/rte_rrtmgp.dir/Cloud_optics.cpp.o\u001b[0m\n",
            "[ 30%] \u001b[32mBuilding CXX object src/CMakeFiles/rte_rrtmgp.dir/Fluxes.cpp.o\u001b[0m\n",
            "[ 32%] \u001b[32mBuilding CXX object src/CMakeFiles/rte_rrtmgp.dir/Gas_concs.cpp.o\u001b[0m\n",
            "[ 35%] \u001b[32mBuilding CXX object src/CMakeFiles/rte_rrtmgp.dir/Gas_optics_rrtmgp.cpp.o\u001b[0m\n",
            "[ 37%] \u001b[32mBuilding CXX object src/CMakeFiles/rte_rrtmgp.dir/Optical_props.cpp.o\u001b[0m\n",
            "[ 40%] \u001b[32mBuilding CXX object src/CMakeFiles/rte_rrtmgp.dir/Rte_lw.cpp.o\u001b[0m\n",
            "[ 42%] \u001b[32mBuilding CXX object src/CMakeFiles/rte_rrtmgp.dir/Rte_sw.cpp.o\u001b[0m\n",
            "[ 45%] \u001b[32mBuilding CXX object src/CMakeFiles/rte_rrtmgp.dir/Source_functions.cpp.o\u001b[0m\n",
            "[ 47%] \u001b[32m\u001b[1mLinking CXX static library librte_rrtmgp.a\u001b[0m\n",
            "[ 47%] Built target rte_rrtmgp\n",
            "[ 50%] \u001b[32mBuilding CUDA object src_kernels_cuda/CMakeFiles/rte_rrtmgp_kernels_cuda.dir/gas_optics_kernel_launchers.cu.o\u001b[0m\n",
            "[ 52%] \u001b[32mBuilding CUDA object src_kernels_cuda/CMakeFiles/rte_rrtmgp_kernels_cuda.dir/optical_props_kernel_launchers.cu.o\u001b[0m\n",
            "[ 55%] \u001b[32mBuilding CUDA object src_kernels_cuda/CMakeFiles/rte_rrtmgp_kernels_cuda.dir/rte_solver_kernel_launchers.cu.o\u001b[0m\n",
            "\u001b[01m\u001b[0m\u001b[01m/content/rte-rrtmgp-cpp/src_kernels_cuda/rte_solver_kernel_launchers.cu(129)\u001b[0m: \u001b[01;35mwarning\u001b[0m #177-D: variable \u001b[01m\"block_gpu3d\"\u001b[0m was declared but never referenced\n",
            "\n",
            "\u001b[01m\u001b[0m\u001b[01m/content/rte-rrtmgp-cpp/src_kernels_cuda/rte_solver_kernel_launchers.cu(341)\u001b[0m: \u001b[01;35mwarning\u001b[0m #177-D: variable \u001b[01m\"r_dir\"\u001b[0m was declared but never referenced\n",
            "\n",
            "\u001b[01m\u001b[0m\u001b[01m/content/rte-rrtmgp-cpp/src_kernels_cuda/rte_solver_kernel_launchers.cu(342)\u001b[0m: \u001b[01;35mwarning\u001b[0m #177-D: variable \u001b[01m\"t_dir\"\u001b[0m was declared but never referenced\n",
            "\n",
            "\u001b[01m\u001b[0m\u001b[01m/content/rte-rrtmgp-cpp/src_kernels_cuda/rte_solver_kernel_launchers.cu(343)\u001b[0m: \u001b[01;35mwarning\u001b[0m #177-D: variable \u001b[01m\"t_noscat\"\u001b[0m was declared but never referenced\n",
            "\n",
            "[ 57%] \u001b[32mBuilding CUDA object src_kernels_cuda/CMakeFiles/rte_rrtmgp_kernels_cuda.dir/subset_kernel_launchers.cu.o\u001b[0m\n",
            "[ 60%] \u001b[32m\u001b[1mLinking CUDA static library librte_rrtmgp_kernels_cuda.a\u001b[0m\n",
            "[ 60%] Built target rte_rrtmgp_kernels_cuda\n",
            "[ 62%] \u001b[32mBuilding CUDA object src_cuda/CMakeFiles/rte_rrtmgp_cuda.dir/Cloud_optics.cu.o\u001b[0m\n",
            "[ 65%] \u001b[32mBuilding CUDA object src_cuda/CMakeFiles/rte_rrtmgp_cuda.dir/Fluxes.cu.o\u001b[0m\n",
            "[ 67%] \u001b[32mBuilding CUDA object src_cuda/CMakeFiles/rte_rrtmgp_cuda.dir/Gas_concs.cu.o\u001b[0m\n",
            "[ 70%] \u001b[32mBuilding CUDA object src_cuda/CMakeFiles/rte_rrtmgp_cuda.dir/Gas_optics_rrtmgp.cu.o\u001b[0m\n",
            "[ 72%] \u001b[32mBuilding CUDA object src_cuda/CMakeFiles/rte_rrtmgp_cuda.dir/Mem_pool_gpu.cu.o\u001b[0m\n",
            "[ 75%] \u001b[32mBuilding CUDA object src_cuda/CMakeFiles/rte_rrtmgp_cuda.dir/Optical_props.cu.o\u001b[0m\n",
            "[ 77%] \u001b[32mBuilding CUDA object src_cuda/CMakeFiles/rte_rrtmgp_cuda.dir/Rte_lw.cu.o\u001b[0m\n",
            "[ 80%] \u001b[32mBuilding CUDA object src_cuda/CMakeFiles/rte_rrtmgp_cuda.dir/Rte_sw.cu.o\u001b[0m\n",
            "[ 82%] \u001b[32mBuilding CUDA object src_cuda/CMakeFiles/rte_rrtmgp_cuda.dir/Source_functions.cu.o\u001b[0m\n",
            "[ 85%] \u001b[32m\u001b[1mLinking CUDA static library librte_rrtmgp_cuda.a\u001b[0m\n",
            "[ 85%] Built target rte_rrtmgp_cuda\n",
            "[ 87%] \u001b[32mBuilding CUDA object src_test/CMakeFiles/test_rte_rrtmgp_gpu.dir/Radiation_solver.cu.o\u001b[0m\n",
            "[ 90%] \u001b[32mBuilding CUDA object src_test/CMakeFiles/test_rte_rrtmgp_gpu.dir/test_rte_rrtmgp.cu.o\u001b[0m\n",
            "[ 92%] \u001b[32m\u001b[1mLinking CXX executable ../test_rte_rrtmgp_gpu\u001b[0m\n",
            "[ 92%] Built target test_rte_rrtmgp_gpu\n",
            "[ 95%] \u001b[32mBuilding CXX object src_test/CMakeFiles/test_rte_rrtmgp.dir/Radiation_solver.cpp.o\u001b[0m\n",
            "[ 97%] \u001b[32mBuilding CXX object src_test/CMakeFiles/test_rte_rrtmgp.dir/test_rte_rrtmgp.cpp.o\u001b[0m\n",
            "[100%] \u001b[32m\u001b[1mLinking CXX executable ../test_rte_rrtmgp\u001b[0m\n",
            "[100%] Built target test_rte_rrtmgp\n"
          ]
        }
      ],
      "source": [
        "!make"
      ]
    },
    {
      "cell_type": "markdown",
      "metadata": {
        "id": "ruz1mJlB_LGZ"
      },
      "source": [
        "### **Example**"
      ]
    },
    {
      "cell_type": "markdown",
      "metadata": {
        "id": "q1NRq03r_O_O"
      },
      "source": [
        "Run the application using helper scripts:"
      ]
    },
    {
      "cell_type": "code",
      "execution_count": 10,
      "metadata": {
        "id": "-1gMXKTT5K9I",
        "colab": {
          "base_uri": "https://localhost:8080/"
        },
        "outputId": "df0f5a3a-af4a-49ff-93ff-df70776bd0be"
      },
      "outputs": [
        {
          "output_type": "stream",
          "name": "stdout",
          "text": [
            "/content/rte-rrtmgp-cpp/allsky\n"
          ]
        }
      ],
      "source": [
        "%cd ../allsky"
      ]
    },
    {
      "cell_type": "code",
      "execution_count": 11,
      "metadata": {
        "id": "uzR6En4i5Qxa"
      },
      "outputs": [],
      "source": [
        "!./make_links.sh"
      ]
    },
    {
      "cell_type": "code",
      "execution_count": 12,
      "metadata": {
        "id": "Wj7Z1Lz2-TUc"
      },
      "outputs": [],
      "source": [
        "!python allsky_init.py"
      ]
    },
    {
      "cell_type": "code",
      "execution_count": 13,
      "metadata": {
        "id": "VCp5-Y_g-vdX",
        "colab": {
          "base_uri": "https://localhost:8080/"
        },
        "outputId": "eb4b84f9-1046-4286-f831-2c5f0176e3eb"
      },
      "outputs": [
        {
          "output_type": "stream",
          "name": "stdout",
          "text": [
            "###### Starting RTE+RRTMGP solver ######\n",
            "Solver settings:\n",
            "cloud-optics         = true\n",
            "fluxes               = true\n",
            "longwave             = true\n",
            "output-bnd-fluxes    = false\n",
            "output-optical       = false\n",
            "shortwave            = true\n",
            "Reading atmospheric input data from NetCDF.\n",
            "WARNING: Gas \"ccl4\" not available in input file.\n",
            "WARNING: Gas \"cfc11\" not available in input file.\n",
            "WARNING: Gas \"cfc12\" not available in input file.\n",
            "WARNING: Gas \"cfc22\" not available in input file.\n",
            "WARNING: Gas \"hfc143a\" not available in input file.\n",
            "WARNING: Gas \"hfc125\" not available in input file.\n",
            "WARNING: Gas \"hfc23\" not available in input file.\n",
            "WARNING: Gas \"hfc32\" not available in input file.\n",
            "WARNING: Gas \"hfc134a\" not available in input file.\n",
            "WARNING: Gas \"cf4\" not available in input file.\n",
            "WARNING: Gas \"no2\" not available in input file.\n",
            "Preparing NetCDF output file.\n",
            "Initializing the longwave solver.\n",
            "Solving the longwave radiation.\n",
            "Duration longwave solver: 89.612812 (ms)\n",
            "Storing the longwave output.\n",
            "Initializing the shortwave solver.\n",
            "Solving the shortwave radiation.\n",
            "Duration shortwave solver: 82.481817 (ms)\n",
            "Storing the shortwave output.\n",
            "###### Finished RTE+RRTMGP solver ######\n"
          ]
        }
      ],
      "source": [
        "!python allsky_run.py"
      ]
    },
    {
      "cell_type": "code",
      "execution_count": 14,
      "metadata": {
        "id": "XzM-qDwg-0Vr",
        "colab": {
          "base_uri": "https://localhost:8080/"
        },
        "outputId": "b814f65b-e4d4-4352-d7d0-1b028cb95a15"
      },
      "outputs": [
        {
          "output_type": "stream",
          "name": "stdout",
          "text": [
            "Variable lw_flux_up differs (max abs difference: 1.976355e-07; max percent difference: 6.903320e-08%)\n",
            "Variable lw_flux_dn differs (max abs difference: 7.972050e-07; max percent difference: 3.308960e-07%)\n",
            "Variable sw_flux_up differs (max abs difference: 1.065513e-07; max percent difference: 1.109829e-07%)\n",
            "Variable sw_flux_dn differs (max abs difference: 1.396712e-07; max percent difference: 1.586108e-08%)\n",
            "Variable sw_flux_dir differs (max abs difference: 1.676650e-07; max percent difference: 2.027790e-08%)\n"
          ]
        }
      ],
      "source": [
        "!python compare-to-reference.py"
      ]
    },
    {
      "cell_type": "markdown",
      "metadata": {
        "id": "ZJ4LpsgK_ckV"
      },
      "source": [
        "### **Challenge**\n",
        "\n",
        "Your task is now to translate into serial C code the `gas_optical_depths_minor` kernel, which can be found at /content/rte-rrtmgp-cpp/src_kernels_cuda/gas_optics_kernels.cu. The kernel is launched twice in the `compute_tau_absorption` function in /content/rte-rrtmgp-cpp/src_kernels_cuda/gas_optics_kernel_launchers.cu\n",
        "\n",
        "One point is given to all those who succesfully **a) translate the kernel, b) verify that the accuracy of the application did not drop significantly, and c) measure the performance loss**.\n",
        "\n",
        "One additional point will be given to those who also find a way to **improve the performance** of the application with respect to the serial C baseline **(going back to the original CUDA implementation does not count)**."
      ]
    },
    {
      "cell_type": "markdown",
      "metadata": {
        "id": "ggduAmheN8kw"
      },
      "source": [
        "### **Final task list**\n",
        "\n",
        "\n",
        "1. Upload on WeBeep a short report (~2 pages) explaining what you did and showing the results you obtained by the deadline.\n",
        "\n",
        "2. Create a branch with a unique name (nickname/favourite actor/whatever, just not something that another of your classmates would use) and push your version of the code to the GitHub repository after the deadline (to avoid plagiarism as much as possible). **NB:** all branches with `cuda` in their name are locked to avoid overwriting the one that stands as a starting point for everyone.\n",
        "\n",
        "3. Be prepared to present what you did in class (no need for a powerpoint, just speak and show your code)."
      ]
    },
    {
      "cell_type": "markdown",
      "metadata": {
        "id": "Qm8DC5rQRoTb"
      },
      "source": [
        "### **Additional information**\n",
        "\n",
        "If you are curious about what this application does and where it comes from, here are some useful resources:\n",
        "\n",
        "*   https://en.wikipedia.org/wiki/Weather_Research_and_Forecasting_Model\n",
        "*   https://github.com/earth-system-radiation/rte-rrtmgp\n",
        "*   https://agupubs.onlinelibrary.wiley.com/doi/10.1029/2019MS001621\n",
        "\n",
        "\n"
      ]
    }
  ],
  "metadata": {
    "colab": {
      "provenance": [],
      "include_colab_link": true
    },
    "kernelspec": {
      "display_name": "Python 3",
      "name": "python3"
    },
    "language_info": {
      "name": "python"
    }
  },
  "nbformat": 4,
  "nbformat_minor": 0
}